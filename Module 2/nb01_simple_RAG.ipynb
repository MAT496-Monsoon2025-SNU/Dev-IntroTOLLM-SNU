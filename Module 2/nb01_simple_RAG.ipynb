{
 "cells": [
  {
   "cell_type": "code",
   "execution_count": 1,
   "id": "65ec513b",
   "metadata": {},
   "outputs": [
    {
     "data": {
      "text/plain": [
       "True"
      ]
     },
     "execution_count": 1,
     "metadata": {},
     "output_type": "execute_result"
    }
   ],
   "source": [
    "import os\n",
    "from dotenv import load_dotenv\n",
    "load_dotenv()"
   ]
  },
  {
   "cell_type": "markdown",
   "id": "6e45e179",
   "metadata": {},
   "source": [
    "## What is RAG (retrieval augmented generation)?\n",
    "Basically, shoving lot of extra information in the prompt."
   ]
  },
  {
   "cell_type": "code",
   "execution_count": 2,
   "id": "52bc9487",
   "metadata": {},
   "outputs": [
    {
     "name": "stdout",
     "output_type": "stream",
     "text": [
      "content=\"Ajit is Preeti's brother. He is also the brother of Sweta. This information is directly stated in the context provided.\" additional_kwargs={} response_metadata={'token_usage': {'completion_tokens': 29, 'prompt_tokens': 119, 'total_tokens': 148, 'completion_time': 0.110944466, 'prompt_time': 0.016731196, 'queue_time': 0.047174454, 'total_time': 0.127675662}, 'model_name': 'llama-3.3-70b-versatile', 'system_fingerprint': 'fp_3f3b593e33', 'service_tier': 'on_demand', 'finish_reason': 'stop', 'logprobs': None} id='run--196de901-e9c2-4f53-911e-97764e4ad013-0' usage_metadata={'input_tokens': 119, 'output_tokens': 29, 'total_tokens': 148}\n"
     ]
    }
   ],
   "source": [
    "# Example \n",
    "\n",
    "from langchain.chat_models import init_chat_model\n",
    "model = init_chat_model(\"llama-3.3-70b-versatile\", model_provider=\"groq\")\n",
    "\n",
    "prompt_template = \"\"\"You are an assistant for question-answering tasks. Use the following pieces of retrieved context to answer the question. If you don't know the answer, just say that you don't know. Use three sentences maximum and keep the answer concise.\n",
    "Question: {question} \n",
    "Context: {context} \n",
    "Answer:\"\"\"\n",
    "\n",
    "response = model.invoke(\n",
    "    prompt_template.format(\n",
    "        context=\"Ajit has two sisters, Preeti and Sweta. Ajit is male.\",\n",
    "        question=\"Who is Preeti's bother?\"         \n",
    "    ))\n",
    "\n",
    "print(response)"
   ]
  },
  {
   "cell_type": "code",
   "execution_count": 3,
   "id": "475aef4c",
   "metadata": {},
   "outputs": [
    {
     "name": "stdout",
     "output_type": "stream",
     "text": [
      "Ajit is Preeti's brother. He is also the brother of Sweta. This information is directly stated in the context provided.\n"
     ]
    }
   ],
   "source": [
    "print(response.content)"
   ]
  },
  {
   "cell_type": "markdown",
   "id": "33703cf0",
   "metadata": {},
   "source": [
    ">RAG is all about cleverly pushing is as much information in the context with minimum possible tokens"
   ]
  },
  {
   "cell_type": "code",
   "execution_count": 4,
   "id": "0b38ad4e",
   "metadata": {},
   "outputs": [],
   "source": [
    "# little non-trival RAG example\n",
    "\n",
    "# grab a novel\n",
    "file = open(\"indianTales.txt\")\n",
    "text = file.read()"
   ]
  },
  {
   "cell_type": "code",
   "execution_count": 5,
   "id": "07503397",
   "metadata": {},
   "outputs": [
    {
     "name": "stdout",
     "output_type": "stream",
     "text": [
      "content='यहाँ दी गई कहानियों की सूची है जिनके लिए मैंने हिंदी में एक संक्षिप्त सारांश लिखा है:\\n\\n1. **शेर और बगुला**: एक बगुला एक शेर की मदद करता है जिसके गले में एक हड्डी फंस जाती है, लेकिन जब बगुला मदद मांगता है तो शेर उसे धन्यवाद नहीं देता और कहता है कि वह उसका शिकार कर सकता था।\\n\\n2. **राजकुमार और राजकुमारी लबाम**: एक राजकुमार अपनी मां की सलाह के विरुद्ध जाकर राजकुमारी लबाम को ढूंढता है और उसे पाने के लिए कई चुनौतियों का सामना करता है। वह कई जानवरों से मिलता है, जिनमें से कुछ उसकी मदद करते हैं और कुछ उसके दुश्मन बन जाते हैं।\\n\\nकृपया ध्यान दें कि अन्य कहानियों के सारांश नहीं दिए गए हैं क्योंकि उनकी पूरी कहानी प्रदान नहीं की गई है।' additional_kwargs={} response_metadata={'token_usage': {'completion_tokens': 322, 'prompt_tokens': 5232, 'total_tokens': 5554, 'completion_time': 1.055895885, 'prompt_time': 0.398177272, 'queue_time': 0.062358288, 'total_time': 1.454073157}, 'model_name': 'llama-3.3-70b-versatile', 'system_fingerprint': 'fp_3f3b593e33', 'service_tier': 'on_demand', 'finish_reason': 'stop', 'logprobs': None} id='run--bb1ad502-0065-414e-afc1-91df9ee79757-0' usage_metadata={'input_tokens': 5232, 'output_tokens': 322, 'total_tokens': 5554}\n"
     ]
    }
   ],
   "source": [
    "# lets try to talk with this book\n",
    "\n",
    "from langchain.chat_models import init_chat_model\n",
    "model = init_chat_model(\"llama-3.3-70b-versatile\", model_provider=\"groq\")\n",
    "\n",
    "# Prepare your prompt\n",
    "prompt_template = \"\"\"You are a novel reader. You are given collection of stories:\n",
    "{collection_of_stories}\n",
    "You are tasked to make a list of story titles in this collection. Write a short summary for each story in Hindi Language. Skip the story from the list, if the story is not provided in the text. \n",
    "\"\"\"\n",
    "\n",
    "response = model.invoke(prompt_template.format(collection_of_stories = text[:len(text)//20]))\n",
    "\n",
    "print(response)"
   ]
  },
  {
   "cell_type": "code",
   "execution_count": 6,
   "id": "87249ea6",
   "metadata": {},
   "outputs": [
    {
     "data": {
      "text/markdown": [
       "यहाँ दी गई कहानियों की सूची है जिनके लिए मैंने हिंदी में एक संक्षिप्त सारांश लिखा है:\n",
       "\n",
       "1. **शेर और बगुला**: एक बगुला एक शेर की मदद करता है जिसके गले में एक हड्डी फंस जाती है, लेकिन जब बगुला मदद मांगता है तो शेर उसे धन्यवाद नहीं देता और कहता है कि वह उसका शिकार कर सकता था।\n",
       "\n",
       "2. **राजकुमार और राजकुमारी लबाम**: एक राजकुमार अपनी मां की सलाह के विरुद्ध जाकर राजकुमारी लबाम को ढूंढता है और उसे पाने के लिए कई चुनौतियों का सामना करता है। वह कई जानवरों से मिलता है, जिनमें से कुछ उसकी मदद करते हैं और कुछ उसके दुश्मन बन जाते हैं।\n",
       "\n",
       "कृपया ध्यान दें कि अन्य कहानियों के सारांश नहीं दिए गए हैं क्योंकि उनकी पूरी कहानी प्रदान नहीं की गई है।"
      ],
      "text/plain": [
       "<IPython.core.display.Markdown object>"
      ]
     },
     "execution_count": 6,
     "metadata": {},
     "output_type": "execute_result"
    }
   ],
   "source": [
    "# Better printing\n",
    "\n",
    "from IPython.display import Markdown\n",
    "Markdown(response.content)"
   ]
  },
  {
   "cell_type": "markdown",
   "id": "8fb7239b",
   "metadata": {},
   "source": [
    "### Problem: Too much raw information in the context makes the prompt too long.\n",
    "- Costly\n",
    "- adds noise\n",
    "### Solution: Use RAG\n",
    "https://python.langchain.com/docs/tutorials/rag/\n",
    "### To understand RAG, we need to understand Semantic Search\n",
    "https://python.langchain.com/docs/tutorials/retrievers/"
   ]
  },
  {
   "cell_type": "code",
   "execution_count": 7,
   "id": "e1ca6bd8",
   "metadata": {},
   "outputs": [],
   "source": [
    "# load text using RELEVANT loader\n",
    "from langchain_community.document_loaders import TextLoader\n",
    "loader = TextLoader(\"indianTales.txt\")\n",
    "docs = loader.load()"
   ]
  },
  {
   "cell_type": "code",
   "execution_count": 8,
   "id": "50eab39c",
   "metadata": {},
   "outputs": [
    {
     "name": "stdout",
     "output_type": "stream",
     "text": [
      "Split given book into 563 sub-documents.\n"
     ]
    }
   ],
   "source": [
    "# Split document into small chunks\n",
    "from langchain_text_splitters import RecursiveCharacterTextSplitter\n",
    "\n",
    "text_splitter = RecursiveCharacterTextSplitter(\n",
    "    chunk_size=1000,  # chunk size (characters)\n",
    "    chunk_overlap=200,  # chunk overlap (characters)\n",
    "    add_start_index=True,  # track index in original document\n",
    ")\n",
    "all_splits = text_splitter.split_documents(docs)\n",
    "\n",
    "print(f\"Split given book into {len(all_splits)} sub-documents.\")"
   ]
  },
  {
   "cell_type": "markdown",
   "id": "d68dd2b5",
   "metadata": {},
   "source": [
    "### Embedding"
   ]
  },
  {
   "cell_type": "code",
   "execution_count": 37,
   "id": "758a909b",
   "metadata": {},
   "outputs": [],
   "source": [
    "from langchain_google_genai import GoogleGenerativeAIEmbeddings\n",
    "\n",
    "embeddings = GoogleGenerativeAIEmbeddings(model=\"models/text-embedding-004\")\n",
    "\n",
    "# Create a vector store\n",
    "# (CLASSROOM DISCUSSION: What are vector stores? What do we make them?)\n",
    "from langchain_core.vectorstores import InMemoryVectorStore\n",
    "vector_store = InMemoryVectorStore(embeddings)\n",
    "\n",
    "# Adding documents to vector store\n",
    "document_ids = vector_store.add_documents(documents=all_splits)\n"
   ]
  },
  {
   "cell_type": "code",
   "execution_count": 21,
   "id": "4e746c37",
   "metadata": {},
   "outputs": [],
   "source": [
    "# document_ids"
   ]
  },
  {
   "cell_type": "code",
   "execution_count": 22,
   "id": "c6363c9a",
   "metadata": {},
   "outputs": [],
   "source": [
    "# extract chunks which matches with your query\n",
    "\n",
    "search_results = vector_store.similarity_search_with_score(\n",
    "    \"What is the role of Lion in the story?\",\n",
    "    k = 10\n",
    ")"
   ]
  },
  {
   "cell_type": "code",
   "execution_count": 23,
   "id": "566ba5f3",
   "metadata": {},
   "outputs": [
    {
     "data": {
      "text/plain": [
       "[(Document(id='529883b3-30e4-4ed2-93c3-d4723c7f1d11', metadata={'source': 'indianTales.txt', 'start_index': 110013}, page_content='goldsmith. Do not release him; and if you do, you shall surely repent\\nof it one day or other.\" Thus advising, the hungry tiger went away\\nwithout waiting for an answer.'),\n",
       "  0.7302086830327078),\n",
       " (Document(id='561e4b7b-8902-490d-b58f-5882b0121227', metadata={'source': 'indianTales.txt', 'start_index': 30490}, page_content='When he heard of the demons the Raja\\'s son was very sad. \"What can I\\ndo?\" he said to himself. \"How can I fight with these two demons?\" Then\\nhe thought of his tiger: and the tiger and his wife came to him and\\nsaid, \"Why are you so sad?\" The Raja\\'s son answered, \"The king has\\nordered me to fight with his two demons and kill them. How can I do\\nthis?\" \"Do not be frightened,\" said the tiger. \"Be happy. I and my\\nwife will fight with them for you.\"\\n\\n[Illustration:]'),\n",
       "  0.7208798323482593),\n",
       " (Document(id='63b309c0-9099-4a39-ad63-d9629dc1d2b6', metadata={'source': 'indianTales.txt', 'start_index': 18950}, page_content='[Illustration:]\\n\\n\"What man hurt you that you roared so loud?\" said the wife.\\n\\n\"No one hurt me,\" answered the husband; \"but a Raja\\'s son came and\\ntook the thorn out of my foot.\"\\n\\n\"Where is he? Show him to me,\" said his wife.\\n\\n\"If you promise not to kill him, I will call him,\" said the tiger.\\n\\n\"I won\\'t kill him; only let me see him,\" answered his wife.\\n\\nThen the tiger called the Raja\\'s son, and when he came the tiger and\\nhis wife made him a great many salaams. Then they gave him a good\\ndinner, and he stayed with them for three days. Every day he looked at\\nthe tiger\\'s foot, and the third day it was quite healed. Then he said\\ngood-bye to the tigers, and the tiger said to him, \"If ever you are in\\ntrouble, think of me, and we will come to you.\"'),\n",
       "  0.7096357142568493),\n",
       " (Document(id='eb6d0caa-2cbf-40a4-bc24-9871e51df0d3', metadata={'source': 'indianTales.txt', 'start_index': 134086}, page_content='and led him up to the treasure, which was buried under the pomegranate\\ntree, and said that the thief had escaped with a part of it. Then the\\nking was pleased, and gave him the revenue of many villages.'),\n",
       "  0.7059271264097986),\n",
       " (Document(id='08597adb-f633-4049-bd59-fcd46c146d31', metadata={'source': 'indianTales.txt', 'start_index': 243924}, page_content='When they saw him the six princes said to each other, \"Look at that\\nhandsome prince. He has a moon on his forehead and a star on his chin.\\nWe have never seen such a prince in this jungle before; he must come\\nfrom another country.\" Then they came up to him, and made him many\\nsalaams, and begged him to give them some food and water. \"Who are\\nyou?\" said the young prince. \"We are the husbands of the six elder\\ndaughters of the King of this country,\" they answered; \"and we have\\nhunted all day, and are very hungry and thirsty.\" They did not\\nrecognise their brother-in-law in the least.'),\n",
       "  0.7029180229970869),\n",
       " (Document(id='e7187d0d-1362-49db-9b3e-f81ab1a45d2d', metadata={'source': 'indianTales.txt', 'start_index': 53151}, page_content='At last, after he had journeyed many hundreds of weary miles, and\\nbecome almost hopeless of ever hearing anything further of his\\nparents, he one day came to a country that seemed full of stones, and\\nrocks, and trees, and there he saw a large palace with a high tower;\\nhard by which was a Malee\\'s little house.\\n\\nAs he was looking about, the Malee\\'s wife saw him, and ran out of the\\nhouse and said, \"My dear boy, who are you that dare venture to this\\ndangerous place?\" He answered, \"I am a Raja\\'s son, and I come in\\nsearch of my father, and my uncles, and my mother whom a wicked\\nenchanter bewitched.\"'),\n",
       "  0.7022543292311848),\n",
       " (Document(id='6721d65c-246c-4f86-aa4c-2776b583022d', metadata={'source': 'indianTales.txt', 'start_index': 249399}, page_content='Now, when Katar was still in the jungle, before the prince was\\nmarried, he had told the boy the whole story of his birth, and all\\nthat had happened to him and his mother. \"When you are married,\" he\\nsaid to him, \"I will take you back to your father\\'s country.\" So two\\nmonths after the young prince had revenged himself on his\\nbrothers-in-law, Katar said to him, \"It is time for you to return to\\nyour father. Get the King to let you go to your own country, and I\\nwill tell you what to do when we get there.\"'),\n",
       "  0.7021593506196968),\n",
       " (Document(id='979c7e5d-5668-473c-9517-f439f9496638', metadata={'source': 'indianTales.txt', 'start_index': 142738}, page_content='and advised her to keep it instead of her husband, because the latter\\nwas constantly out shooting and on other such-like expeditions, and\\nmight lose it. Accordingly the beautiful princess asked her husband\\nfor the ring, and he readily gave it to her.'),\n",
       "  0.6994634455334454),\n",
       " (Document(id='bb0c374c-3e71-4b37-a98d-4e293c6cda89', metadata={'source': 'indianTales.txt', 'start_index': 9696}, page_content=\"VII.    THE CRUEL CRANE OUTWITTED                    46\\n\\nVIII.   LOVING LAILI                                 51\\n\\nIX.     THE TIGER, THE BRAHMAN, AND THE JACKAL       66\\n\\nX.      THE SOOTHSAYER'S SON                         70\\n\\nXI.     HARISARMAN                                   85\\n\\nXII.    THE CHARMED RING                             90\\n\\nXIII.   THE TALKATIVE TORTOISE                      100\\n\\nXIV.    A LAC OF RUPEES FOR A PIECE OF ADVICE       103\\n\\nXV.     THE GOLD-GIVING SERPENT                     112\\n\\nXVI.    THE SON OF SEVEN QUEENS                     115\\n\\nXVII.   A LESSON FOR KINGS                          127\\n\\nXVIII.  PRIDE GOETH BEFORE A FALL                   132\\n\\nXIX.    RAJA RASALU                                 136\\n\\nXX.     THE ASS IN THE LION'S SKIN                  150\\n\\nXXI.    THE FARMER AND THE MONEY-LENDER             152\\n\\nXXII.   THE BOY WHO HAD A MOON ON HIS FOREHEAD\\n            AND A STAR ON HIS CHIN                  156\"),\n",
       "  0.699332577788484),\n",
       " (Document(id='4e928832-479b-477c-a1db-a80a67c60bf9', metadata={'source': 'indianTales.txt', 'start_index': 12770}, page_content='mouth struck one end of the bone with his beak. Whereupon the bone\\ndropped and fell out. As soon as he had caused the bone to fall, he\\ngot out of the lion\\'s mouth, striking the stick with his beak so that\\nit fell out, and then settled on a branch. The lion gets well, and\\none day was eating a buffalo he had killed. The crane thinking \"I will\\nsound him,\" settled on a branch just over him, and in conversation\\nspoke this first verse:'),\n",
       "  0.6990918747561161)]"
      ]
     },
     "execution_count": 23,
     "metadata": {},
     "output_type": "execute_result"
    }
   ],
   "source": [
    "search_results"
   ]
  },
  {
   "cell_type": "markdown",
   "id": "aef0ce6d",
   "metadata": {},
   "source": [
    "### What is RAG?\n",
    "Retrieve using semantic search and dump the similar chunks in the context of the prompt.\n",
    "LLM sees the question and retrieved docs in its prompt and generates tokens accordingly."
   ]
  },
  {
   "cell_type": "code",
   "execution_count": 24,
   "id": "92552a3a",
   "metadata": {},
   "outputs": [],
   "source": [
    "prompt_template = \"\"\"You are an assistant for question-answering tasks. Use the following pieces of retrieved context to answer the question. If you don't know the answer, just say that you don't know. Use three sentences maximum and keep the answer concise.\n",
    "Question: {question} \n",
    "Context: {context} \n",
    "Answer:\"\"\""
   ]
  },
  {
   "cell_type": "code",
   "execution_count": 25,
   "id": "f4152d01",
   "metadata": {},
   "outputs": [
    {
     "name": "stdout",
     "output_type": "stream",
     "text": [
      "goldsmith. Do not release him; and if you do, you shall surely repent\n",
      "of it one day or other.\" Thus advising, the hungry tiger went away\n",
      "without waiting for an answer.\n",
      "==================================================\n",
      "\n",
      "\n",
      "When he heard of the demons the Raja's son was very sad. \"What can I\n",
      "do?\" he said to himself. \"How can I fight with these two demons?\" Then\n",
      "he thought of his tiger: and the tiger and his wife came to him and\n",
      "said, \"Why are you so sad?\" The Raja's son answered, \"The king has\n",
      "ordered me to fight with his two demons and kill them. How can I do\n",
      "this?\" \"Do not be frightened,\" said the tiger. \"Be happy. I and my\n",
      "wife will fight with them for you.\"\n",
      "\n",
      "[Illustration:]\n",
      "==================================================\n",
      "\n",
      "\n",
      "[Illustration:]\n",
      "\n",
      "\"What man hurt you that you roared so loud?\" said the wife.\n",
      "\n",
      "\"No one hurt me,\" answered the husband; \"but a Raja's son came and\n",
      "took the thorn out of my foot.\"\n",
      "\n",
      "\"Where is he? Show him to me,\" said his wife.\n",
      "\n",
      "\"If you promise not to kill him, I will call him,\" said the tiger.\n",
      "\n",
      "\"I won't kill him; only let me see him,\" answered his wife.\n",
      "\n",
      "Then the tiger called the Raja's son, and when he came the tiger and\n",
      "his wife made him a great many salaams. Then they gave him a good\n",
      "dinner, and he stayed with them for three days. Every day he looked at\n",
      "the tiger's foot, and the third day it was quite healed. Then he said\n",
      "good-bye to the tigers, and the tiger said to him, \"If ever you are in\n",
      "trouble, think of me, and we will come to you.\"\n",
      "==================================================\n",
      "\n",
      "\n",
      "and led him up to the treasure, which was buried under the pomegranate\n",
      "tree, and said that the thief had escaped with a part of it. Then the\n",
      "king was pleased, and gave him the revenue of many villages.\n",
      "==================================================\n",
      "\n",
      "\n",
      "When they saw him the six princes said to each other, \"Look at that\n",
      "handsome prince. He has a moon on his forehead and a star on his chin.\n",
      "We have never seen such a prince in this jungle before; he must come\n",
      "from another country.\" Then they came up to him, and made him many\n",
      "salaams, and begged him to give them some food and water. \"Who are\n",
      "you?\" said the young prince. \"We are the husbands of the six elder\n",
      "daughters of the King of this country,\" they answered; \"and we have\n",
      "hunted all day, and are very hungry and thirsty.\" They did not\n",
      "recognise their brother-in-law in the least.\n",
      "==================================================\n",
      "\n",
      "\n",
      "At last, after he had journeyed many hundreds of weary miles, and\n",
      "become almost hopeless of ever hearing anything further of his\n",
      "parents, he one day came to a country that seemed full of stones, and\n",
      "rocks, and trees, and there he saw a large palace with a high tower;\n",
      "hard by which was a Malee's little house.\n",
      "\n",
      "As he was looking about, the Malee's wife saw him, and ran out of the\n",
      "house and said, \"My dear boy, who are you that dare venture to this\n",
      "dangerous place?\" He answered, \"I am a Raja's son, and I come in\n",
      "search of my father, and my uncles, and my mother whom a wicked\n",
      "enchanter bewitched.\"\n",
      "==================================================\n",
      "\n",
      "\n",
      "Now, when Katar was still in the jungle, before the prince was\n",
      "married, he had told the boy the whole story of his birth, and all\n",
      "that had happened to him and his mother. \"When you are married,\" he\n",
      "said to him, \"I will take you back to your father's country.\" So two\n",
      "months after the young prince had revenged himself on his\n",
      "brothers-in-law, Katar said to him, \"It is time for you to return to\n",
      "your father. Get the King to let you go to your own country, and I\n",
      "will tell you what to do when we get there.\"\n",
      "==================================================\n",
      "\n",
      "\n",
      "and advised her to keep it instead of her husband, because the latter\n",
      "was constantly out shooting and on other such-like expeditions, and\n",
      "might lose it. Accordingly the beautiful princess asked her husband\n",
      "for the ring, and he readily gave it to her.\n",
      "==================================================\n",
      "\n",
      "\n",
      "VII.    THE CRUEL CRANE OUTWITTED                    46\n",
      "\n",
      "VIII.   LOVING LAILI                                 51\n",
      "\n",
      "IX.     THE TIGER, THE BRAHMAN, AND THE JACKAL       66\n",
      "\n",
      "X.      THE SOOTHSAYER'S SON                         70\n",
      "\n",
      "XI.     HARISARMAN                                   85\n",
      "\n",
      "XII.    THE CHARMED RING                             90\n",
      "\n",
      "XIII.   THE TALKATIVE TORTOISE                      100\n",
      "\n",
      "XIV.    A LAC OF RUPEES FOR A PIECE OF ADVICE       103\n",
      "\n",
      "XV.     THE GOLD-GIVING SERPENT                     112\n",
      "\n",
      "XVI.    THE SON OF SEVEN QUEENS                     115\n",
      "\n",
      "XVII.   A LESSON FOR KINGS                          127\n",
      "\n",
      "XVIII.  PRIDE GOETH BEFORE A FALL                   132\n",
      "\n",
      "XIX.    RAJA RASALU                                 136\n",
      "\n",
      "XX.     THE ASS IN THE LION'S SKIN                  150\n",
      "\n",
      "XXI.    THE FARMER AND THE MONEY-LENDER             152\n",
      "\n",
      "XXII.   THE BOY WHO HAD A MOON ON HIS FOREHEAD\n",
      "            AND A STAR ON HIS CHIN                  156\n",
      "==================================================\n",
      "\n",
      "\n",
      "mouth struck one end of the bone with his beak. Whereupon the bone\n",
      "dropped and fell out. As soon as he had caused the bone to fall, he\n",
      "got out of the lion's mouth, striking the stick with his beak so that\n",
      "it fell out, and then settled on a branch. The lion gets well, and\n",
      "one day was eating a buffalo he had killed. The crane thinking \"I will\n",
      "sound him,\" settled on a branch just over him, and in conversation\n",
      "spoke this first verse:\n",
      "==================================================\n",
      "\n"
     ]
    }
   ],
   "source": [
    "doc_content = \"\\n\\n\".join(doc.page_content+\"\\n\"+\"=\"*50+\"\\n\" for (doc,score) in search_results)\n",
    "print(doc_content)"
   ]
  },
  {
   "cell_type": "code",
   "execution_count": 26,
   "id": "395b1451",
   "metadata": {},
   "outputs": [],
   "source": [
    "# make the LLM read see the prompt, and analyse the retrieved document, and generate response\n",
    "\n",
    "from langchain.chat_models import init_chat_model\n",
    "model = init_chat_model(\"llama-3.3-70b-versatile\", model_provider=\"groq\")\n",
    "\n",
    "prompt_template = \"\"\"You are an assistant for question-answering tasks. Use the following pieces of retrieved context to answer the question. If you don't know the answer, just say that you don't know. Use three sentences maximum and keep the answer concise.\n",
    "Question: {question} \n",
    "Context: {context} \n",
    "Answer:\"\"\"\n",
    "\n",
    "response = model.invoke(prompt_template.format(\n",
    "    context=doc_content,\n",
    "    question=\"What is the role of Lion in the story?\"))"
   ]
  },
  {
   "cell_type": "code",
   "execution_count": 27,
   "id": "9d7fdba7",
   "metadata": {},
   "outputs": [
    {
     "data": {
      "text/markdown": [
       "There is no mention of a lion playing a role in the provided story context. The context primarily talks about a Raja's son, tigers, and other characters, but does not discuss a lion's role. I don't know the answer based on the given context."
      ],
      "text/plain": [
       "<IPython.core.display.Markdown object>"
      ]
     },
     "execution_count": 27,
     "metadata": {},
     "output_type": "execute_result"
    }
   ],
   "source": [
    "# Better printing\n",
    "\n",
    "from IPython.display import Markdown\n",
    "Markdown(response.content)"
   ]
  },
  {
   "cell_type": "markdown",
   "id": "7a5ceb2c",
   "metadata": {},
   "source": [
    "# RAG Summary"
   ]
  },
  {
   "cell_type": "code",
   "execution_count": 58,
   "id": "93cd5add",
   "metadata": {},
   "outputs": [
    {
     "name": "stdout",
     "output_type": "stream",
     "text": [
      "Split given book into 563 sub-documents.\n"
     ]
    }
   ],
   "source": [
    "# RAG summary\n",
    "\n",
    "# Read a doc\n",
    "from langchain_community.document_loaders import TextLoader\n",
    "loader = TextLoader(\"indianTales.txt\")\n",
    "docs = loader.load()\n",
    "\n",
    "# Split document into small chunks\n",
    "from langchain_text_splitters import RecursiveCharacterTextSplitter\n",
    "\n",
    "text_splitter = RecursiveCharacterTextSplitter(\n",
    "    chunk_size=1000,  # chunk size (characters)\n",
    "    chunk_overlap=200,  # chunk overlap (characters)\n",
    "    add_start_index=True,  # track index in original document\n",
    ")\n",
    "all_splits = text_splitter.split_documents(docs)\n",
    "\n",
    "print(f\"Split given book into {len(all_splits)} sub-documents.\")\n",
    "\n",
    "# embedding\n",
    "from langchain_google_genai import GoogleGenerativeAIEmbeddings\n",
    "\n",
    "embeddings = GoogleGenerativeAIEmbeddings(model=\"models/text-embedding-004\")\n",
    "\n",
    "# Create a vector store\n",
    "from langchain_core.vectorstores import InMemoryVectorStore\n",
    "vector_store = InMemoryVectorStore(embeddings)\n",
    "\n",
    "# Adding documents to vector store\n",
    "document_ids = vector_store.add_documents(documents=all_splits)\n"
   ]
  },
  {
   "cell_type": "code",
   "execution_count": 59,
   "id": "b55042e4",
   "metadata": {},
   "outputs": [
    {
     "name": "stdout",
     "output_type": "stream",
     "text": [
      "goldsmith. Do not release him; and if you do, you shall surely repent\n",
      "of it one day or other.\" Thus advising, the hungry tiger went away\n",
      "without waiting for an answer.\n",
      "==================================================\n",
      "\n",
      "\n",
      "When he heard of the demons the Raja's son was very sad. \"What can I\n",
      "do?\" he said to himself. \"How can I fight with these two demons?\" Then\n",
      "he thought of his tiger: and the tiger and his wife came to him and\n",
      "said, \"Why are you so sad?\" The Raja's son answered, \"The king has\n",
      "ordered me to fight with his two demons and kill them. How can I do\n",
      "this?\" \"Do not be frightened,\" said the tiger. \"Be happy. I and my\n",
      "wife will fight with them for you.\"\n",
      "\n",
      "[Illustration:]\n",
      "==================================================\n",
      "\n",
      "\n",
      "[Illustration:]\n",
      "\n",
      "\"What man hurt you that you roared so loud?\" said the wife.\n",
      "\n",
      "\"No one hurt me,\" answered the husband; \"but a Raja's son came and\n",
      "took the thorn out of my foot.\"\n",
      "\n",
      "\"Where is he? Show him to me,\" said his wife.\n",
      "\n",
      "\"If you promise not to kill him, I will call him,\" said the tiger.\n",
      "\n",
      "\"I won't kill him; only let me see him,\" answered his wife.\n",
      "\n",
      "Then the tiger called the Raja's son, and when he came the tiger and\n",
      "his wife made him a great many salaams. Then they gave him a good\n",
      "dinner, and he stayed with them for three days. Every day he looked at\n",
      "the tiger's foot, and the third day it was quite healed. Then he said\n",
      "good-bye to the tigers, and the tiger said to him, \"If ever you are in\n",
      "trouble, think of me, and we will come to you.\"\n",
      "==================================================\n",
      "\n",
      "\n",
      "and led him up to the treasure, which was buried under the pomegranate\n",
      "tree, and said that the thief had escaped with a part of it. Then the\n",
      "king was pleased, and gave him the revenue of many villages.\n",
      "==================================================\n",
      "\n",
      "\n",
      "When they saw him the six princes said to each other, \"Look at that\n",
      "handsome prince. He has a moon on his forehead and a star on his chin.\n",
      "We have never seen such a prince in this jungle before; he must come\n",
      "from another country.\" Then they came up to him, and made him many\n",
      "salaams, and begged him to give them some food and water. \"Who are\n",
      "you?\" said the young prince. \"We are the husbands of the six elder\n",
      "daughters of the King of this country,\" they answered; \"and we have\n",
      "hunted all day, and are very hungry and thirsty.\" They did not\n",
      "recognise their brother-in-law in the least.\n",
      "==================================================\n",
      "\n",
      "\n",
      "At last, after he had journeyed many hundreds of weary miles, and\n",
      "become almost hopeless of ever hearing anything further of his\n",
      "parents, he one day came to a country that seemed full of stones, and\n",
      "rocks, and trees, and there he saw a large palace with a high tower;\n",
      "hard by which was a Malee's little house.\n",
      "\n",
      "As he was looking about, the Malee's wife saw him, and ran out of the\n",
      "house and said, \"My dear boy, who are you that dare venture to this\n",
      "dangerous place?\" He answered, \"I am a Raja's son, and I come in\n",
      "search of my father, and my uncles, and my mother whom a wicked\n",
      "enchanter bewitched.\"\n",
      "==================================================\n",
      "\n",
      "\n",
      "Now, when Katar was still in the jungle, before the prince was\n",
      "married, he had told the boy the whole story of his birth, and all\n",
      "that had happened to him and his mother. \"When you are married,\" he\n",
      "said to him, \"I will take you back to your father's country.\" So two\n",
      "months after the young prince had revenged himself on his\n",
      "brothers-in-law, Katar said to him, \"It is time for you to return to\n",
      "your father. Get the King to let you go to your own country, and I\n",
      "will tell you what to do when we get there.\"\n",
      "==================================================\n",
      "\n",
      "\n",
      "and advised her to keep it instead of her husband, because the latter\n",
      "was constantly out shooting and on other such-like expeditions, and\n",
      "might lose it. Accordingly the beautiful princess asked her husband\n",
      "for the ring, and he readily gave it to her.\n",
      "==================================================\n",
      "\n",
      "\n",
      "VII.    THE CRUEL CRANE OUTWITTED                    46\n",
      "\n",
      "VIII.   LOVING LAILI                                 51\n",
      "\n",
      "IX.     THE TIGER, THE BRAHMAN, AND THE JACKAL       66\n",
      "\n",
      "X.      THE SOOTHSAYER'S SON                         70\n",
      "\n",
      "XI.     HARISARMAN                                   85\n",
      "\n",
      "XII.    THE CHARMED RING                             90\n",
      "\n",
      "XIII.   THE TALKATIVE TORTOISE                      100\n",
      "\n",
      "XIV.    A LAC OF RUPEES FOR A PIECE OF ADVICE       103\n",
      "\n",
      "XV.     THE GOLD-GIVING SERPENT                     112\n",
      "\n",
      "XVI.    THE SON OF SEVEN QUEENS                     115\n",
      "\n",
      "XVII.   A LESSON FOR KINGS                          127\n",
      "\n",
      "XVIII.  PRIDE GOETH BEFORE A FALL                   132\n",
      "\n",
      "XIX.    RAJA RASALU                                 136\n",
      "\n",
      "XX.     THE ASS IN THE LION'S SKIN                  150\n",
      "\n",
      "XXI.    THE FARMER AND THE MONEY-LENDER             152\n",
      "\n",
      "XXII.   THE BOY WHO HAD A MOON ON HIS FOREHEAD\n",
      "            AND A STAR ON HIS CHIN                  156\n",
      "==================================================\n",
      "\n",
      "\n",
      "mouth struck one end of the bone with his beak. Whereupon the bone\n",
      "dropped and fell out. As soon as he had caused the bone to fall, he\n",
      "got out of the lion's mouth, striking the stick with his beak so that\n",
      "it fell out, and then settled on a branch. The lion gets well, and\n",
      "one day was eating a buffalo he had killed. The crane thinking \"I will\n",
      "sound him,\" settled on a branch just over him, and in conversation\n",
      "spoke this first verse:\n",
      "==================================================\n",
      "\n"
     ]
    }
   ],
   "source": [
    "# extract chunks which matches with your query\n",
    "\n",
    "search_results = vector_store.similarity_search_with_score(\n",
    "    \"What is the role of Lion in the story?\",\n",
    "    k = 10\n",
    ")\n",
    "\n",
    "doc_content = \"\\n\\n\".join(doc.page_content+\"\\n\"+\"=\"*50+\"\\n\" for (doc,score) in search_results)\n",
    "print(doc_content)"
   ]
  },
  {
   "cell_type": "code",
   "execution_count": 60,
   "id": "94122ba7",
   "metadata": {},
   "outputs": [
    {
     "data": {
      "text/markdown": [
       "There is no mention of a lion playing a role in the provided story context. The context primarily talks about a tiger, a Raja's son, and other characters, but does not mention a lion's role. I don't know the answer based on the given context."
      ],
      "text/plain": [
       "<IPython.core.display.Markdown object>"
      ]
     },
     "execution_count": 60,
     "metadata": {},
     "output_type": "execute_result"
    }
   ],
   "source": [
    "prompt_template = \"\"\"You are an assistant for question-answering tasks. Use the following pieces of retrieved context to answer the question. If you don't know the answer, just say that you don't know. Use three sentences maximum and keep the answer concise.\n",
    "Question: {question} \n",
    "Context: {context} \n",
    "Answer:\"\"\"\n",
    "\n",
    "response = model.invoke(prompt_template.format(\n",
    "    context=doc_content,\n",
    "    question=\"What is the role of Lion in the story?\"))\n",
    "\n",
    "\n",
    "from IPython.display import Markdown\n",
    "Markdown(response.content)"
   ]
  },
  {
   "cell_type": "code",
   "execution_count": null,
   "id": "9053cdb8",
   "metadata": {},
   "outputs": [],
   "source": []
  },
  {
   "cell_type": "code",
   "execution_count": null,
   "id": "7ef0604c",
   "metadata": {},
   "outputs": [],
   "source": []
  },
  {
   "cell_type": "code",
   "execution_count": null,
   "id": "d1fa6f16",
   "metadata": {},
   "outputs": [],
   "source": []
  },
  {
   "cell_type": "markdown",
   "id": "215fe9cc",
   "metadata": {},
   "source": [
    "**SELF EXPERIMENTING**"
   ]
  },
  {
   "cell_type": "code",
   "execution_count": 61,
   "id": "a8d80314",
   "metadata": {},
   "outputs": [],
   "source": [
    "#replicating the learnings from the notebook"
   ]
  },
  {
   "cell_type": "code",
   "execution_count": 62,
   "id": "63eb6661",
   "metadata": {},
   "outputs": [
    {
     "name": "stdout",
     "output_type": "stream",
     "text": [
      "Split given book into 220 sub-documents.\n"
     ]
    }
   ],
   "source": [
    "# RAG summary\n",
    "\n",
    "# Read a doc\n",
    "from langchain_community.document_loaders import TextLoader\n",
    "loader = TextLoader(\"Alice.txt\")\n",
    "docs = loader.load()\n",
    "\n",
    "# Split document into small chunks\n",
    "from langchain_text_splitters import RecursiveCharacterTextSplitter\n",
    "\n",
    "text_splitter = RecursiveCharacterTextSplitter(\n",
    "    chunk_size=1000,  # chunk size (characters)\n",
    "    chunk_overlap=200,  # chunk overlap (characters)\n",
    "    add_start_index=True,  # track index in original document\n",
    ")\n",
    "all_splits = text_splitter.split_documents(docs)\n",
    "\n",
    "print(f\"Split given book into {len(all_splits)} sub-documents.\")\n",
    "\n",
    "# embedding\n",
    "from langchain_google_genai import GoogleGenerativeAIEmbeddings\n",
    "\n",
    "embeddings = GoogleGenerativeAIEmbeddings(model=\"models/text-embedding-004\")\n",
    "\n",
    "# Create a vector store\n",
    "from langchain_core.vectorstores import InMemoryVectorStore\n",
    "vector_store = InMemoryVectorStore(embeddings)\n",
    "\n",
    "# Adding documents to vector store\n",
    "document_ids = vector_store.add_documents(documents=all_splits)\n"
   ]
  },
  {
   "cell_type": "code",
   "execution_count": 63,
   "id": "cd5ffa98",
   "metadata": {},
   "outputs": [
    {
     "name": "stdout",
     "output_type": "stream",
     "text": [
      "goldsmith. Do not release him; and if you do, you shall surely repent\n",
      "of it one day or other.\" Thus advising, the hungry tiger went away\n",
      "without waiting for an answer.\n",
      "==================================================\n",
      "\n",
      "\n",
      "When he heard of the demons the Raja's son was very sad. \"What can I\n",
      "do?\" he said to himself. \"How can I fight with these two demons?\" Then\n",
      "he thought of his tiger: and the tiger and his wife came to him and\n",
      "said, \"Why are you so sad?\" The Raja's son answered, \"The king has\n",
      "ordered me to fight with his two demons and kill them. How can I do\n",
      "this?\" \"Do not be frightened,\" said the tiger. \"Be happy. I and my\n",
      "wife will fight with them for you.\"\n",
      "\n",
      "[Illustration:]\n",
      "==================================================\n",
      "\n",
      "\n",
      "[Illustration:]\n",
      "\n",
      "\"What man hurt you that you roared so loud?\" said the wife.\n",
      "\n",
      "\"No one hurt me,\" answered the husband; \"but a Raja's son came and\n",
      "took the thorn out of my foot.\"\n",
      "\n",
      "\"Where is he? Show him to me,\" said his wife.\n",
      "\n",
      "\"If you promise not to kill him, I will call him,\" said the tiger.\n",
      "\n",
      "\"I won't kill him; only let me see him,\" answered his wife.\n",
      "\n",
      "Then the tiger called the Raja's son, and when he came the tiger and\n",
      "his wife made him a great many salaams. Then they gave him a good\n",
      "dinner, and he stayed with them for three days. Every day he looked at\n",
      "the tiger's foot, and the third day it was quite healed. Then he said\n",
      "good-bye to the tigers, and the tiger said to him, \"If ever you are in\n",
      "trouble, think of me, and we will come to you.\"\n",
      "==================================================\n",
      "\n",
      "\n",
      "and led him up to the treasure, which was buried under the pomegranate\n",
      "tree, and said that the thief had escaped with a part of it. Then the\n",
      "king was pleased, and gave him the revenue of many villages.\n",
      "==================================================\n",
      "\n",
      "\n",
      "When they saw him the six princes said to each other, \"Look at that\n",
      "handsome prince. He has a moon on his forehead and a star on his chin.\n",
      "We have never seen such a prince in this jungle before; he must come\n",
      "from another country.\" Then they came up to him, and made him many\n",
      "salaams, and begged him to give them some food and water. \"Who are\n",
      "you?\" said the young prince. \"We are the husbands of the six elder\n",
      "daughters of the King of this country,\" they answered; \"and we have\n",
      "hunted all day, and are very hungry and thirsty.\" They did not\n",
      "recognise their brother-in-law in the least.\n",
      "==================================================\n",
      "\n",
      "\n",
      "At last, after he had journeyed many hundreds of weary miles, and\n",
      "become almost hopeless of ever hearing anything further of his\n",
      "parents, he one day came to a country that seemed full of stones, and\n",
      "rocks, and trees, and there he saw a large palace with a high tower;\n",
      "hard by which was a Malee's little house.\n",
      "\n",
      "As he was looking about, the Malee's wife saw him, and ran out of the\n",
      "house and said, \"My dear boy, who are you that dare venture to this\n",
      "dangerous place?\" He answered, \"I am a Raja's son, and I come in\n",
      "search of my father, and my uncles, and my mother whom a wicked\n",
      "enchanter bewitched.\"\n",
      "==================================================\n",
      "\n",
      "\n",
      "Now, when Katar was still in the jungle, before the prince was\n",
      "married, he had told the boy the whole story of his birth, and all\n",
      "that had happened to him and his mother. \"When you are married,\" he\n",
      "said to him, \"I will take you back to your father's country.\" So two\n",
      "months after the young prince had revenged himself on his\n",
      "brothers-in-law, Katar said to him, \"It is time for you to return to\n",
      "your father. Get the King to let you go to your own country, and I\n",
      "will tell you what to do when we get there.\"\n",
      "==================================================\n",
      "\n",
      "\n",
      "and advised her to keep it instead of her husband, because the latter\n",
      "was constantly out shooting and on other such-like expeditions, and\n",
      "might lose it. Accordingly the beautiful princess asked her husband\n",
      "for the ring, and he readily gave it to her.\n",
      "==================================================\n",
      "\n",
      "\n",
      "VII.    THE CRUEL CRANE OUTWITTED                    46\n",
      "\n",
      "VIII.   LOVING LAILI                                 51\n",
      "\n",
      "IX.     THE TIGER, THE BRAHMAN, AND THE JACKAL       66\n",
      "\n",
      "X.      THE SOOTHSAYER'S SON                         70\n",
      "\n",
      "XI.     HARISARMAN                                   85\n",
      "\n",
      "XII.    THE CHARMED RING                             90\n",
      "\n",
      "XIII.   THE TALKATIVE TORTOISE                      100\n",
      "\n",
      "XIV.    A LAC OF RUPEES FOR A PIECE OF ADVICE       103\n",
      "\n",
      "XV.     THE GOLD-GIVING SERPENT                     112\n",
      "\n",
      "XVI.    THE SON OF SEVEN QUEENS                     115\n",
      "\n",
      "XVII.   A LESSON FOR KINGS                          127\n",
      "\n",
      "XVIII.  PRIDE GOETH BEFORE A FALL                   132\n",
      "\n",
      "XIX.    RAJA RASALU                                 136\n",
      "\n",
      "XX.     THE ASS IN THE LION'S SKIN                  150\n",
      "\n",
      "XXI.    THE FARMER AND THE MONEY-LENDER             152\n",
      "\n",
      "XXII.   THE BOY WHO HAD A MOON ON HIS FOREHEAD\n",
      "            AND A STAR ON HIS CHIN                  156\n",
      "==================================================\n",
      "\n",
      "\n",
      "mouth struck one end of the bone with his beak. Whereupon the bone\n",
      "dropped and fell out. As soon as he had caused the bone to fall, he\n",
      "got out of the lion's mouth, striking the stick with his beak so that\n",
      "it fell out, and then settled on a branch. The lion gets well, and\n",
      "one day was eating a buffalo he had killed. The crane thinking \"I will\n",
      "sound him,\" settled on a branch just over him, and in conversation\n",
      "spoke this first verse:\n",
      "==================================================\n",
      "\n"
     ]
    }
   ],
   "source": [
    "# extract chunks which matches with your query\n",
    "\n",
    "search_results = vector_store.similarity_search_with_score(\n",
    "    \"What is the role of Alice in the story?\",\n",
    "    k = 10\n",
    ")\n",
    "\n",
    "doc_content_Alice = \"\\n\\n\".join(doc.page_content+\"\\n\"+\"=\"*50+\"\\n\" for (doc,score) in search_results)\n",
    "print(doc_content)"
   ]
  },
  {
   "cell_type": "code",
   "execution_count": 64,
   "id": "f55ecd30",
   "metadata": {},
   "outputs": [],
   "source": [
    "\n",
    "from langchain.chat_models import init_chat_model\n",
    "model = init_chat_model(\"llama-3.3-70b-versatile\", model_provider=\"groq\")\n",
    "\n",
    "prompt_template = \"\"\"You are an assistant for question-answering tasks. Use the following pieces of retrieved context to answer the question. If you don't know the answer, just say that you don't know. Use three sentences maximum and keep the answer concise.\n",
    "Question: {question} \n",
    "Context: {context} \n",
    "Answer:\"\"\"\n",
    "\n",
    "response = model.invoke(prompt_template.format(\n",
    "    context=doc_content,\n",
    "    question=\"What is the role of Alice in the story?\"))"
   ]
  },
  {
   "cell_type": "code",
   "execution_count": 65,
   "id": "8ada10bc",
   "metadata": {},
   "outputs": [
    {
     "data": {
      "text/markdown": [
       "There is no mention of Alice in the provided context. I don't know the role of Alice in the story. The context appears to be a collection of folk tales or stories, but none of them mention a character named Alice."
      ],
      "text/plain": [
       "<IPython.core.display.Markdown object>"
      ]
     },
     "execution_count": 65,
     "metadata": {},
     "output_type": "execute_result"
    }
   ],
   "source": [
    "Markdown(response.content)"
   ]
  },
  {
   "cell_type": "code",
   "execution_count": 66,
   "id": "7b95ffbb",
   "metadata": {},
   "outputs": [],
   "source": [
    "##COMBINING THE ABOVE STEPS INTO A FUNCTION"
   ]
  },
  {
   "cell_type": "code",
   "execution_count": 67,
   "id": "cc2785b0",
   "metadata": {},
   "outputs": [],
   "source": [
    "from langchain.chat_models import init_chat_model\n",
    "from IPython.display import Markdown\n",
    "\n",
    "# Initialize model only once (outside function)\n",
    "model = init_chat_model(\"llama-3.3-70b-versatile\", model_provider=\"groq\")\n",
    "\n",
    "def answer_question(question: str, k: int = 10):\n",
    "    \"\"\"\n",
    "    Retrieves context from the vector store and uses the model to answer the question.\n",
    "    \n",
    "    Args:\n",
    "        question (str): The question you want to ask.\n",
    "        k (int): Number of retrieved chunks. Default = 10.\n",
    "    \n",
    "    Returns:\n",
    "        str: The model's answer.\n",
    "    \"\"\"\n",
    "\n",
    "    # Step 1: Search relevant chunks\n",
    "    search_results = vector_store.similarity_search_with_score(question, k=k)\n",
    "\n",
    "    doc_content = \"\\n\\n\".join(\n",
    "        doc.page_content + \"\\n\" + \"=\"*50 + \"\\n\"\n",
    "        for (doc, score) in search_results\n",
    "    )\n",
    "\n",
    "    # Step 2: Format prompt\n",
    "    prompt_template = \"\"\"You are an assistant for question-answering tasks. \n",
    "    Use the following pieces of retrieved context to answer the question. \n",
    "    If you don't know the answer, just say that you don't know. \n",
    "    Use three sentences maximum and keep the answer concise.\n",
    "\n",
    "    Question: {question} \n",
    "    Context: {context} \n",
    "    Answer:\"\"\"\n",
    "\n",
    "    # Step 3: Get response\n",
    "    response = model.invoke(prompt_template.format(\n",
    "        context=doc_content,\n",
    "        question=question\n",
    "    ))\n",
    "\n",
    "    # Step 4: Display as Markdown\n",
    "    display(Markdown(response.content))\n",
    "\n",
    "    return response.content"
   ]
  },
  {
   "cell_type": "code",
   "execution_count": 68,
   "id": "bab89889",
   "metadata": {},
   "outputs": [
    {
     "data": {
      "text/markdown": [
       "Alice is the main character in the story, a curious and imaginative young girl who has many strange and wonderful adventures. She is the one narrating her dreams and experiences to her sister and interacting with various creatures in the story. Her role is that of a protagonist, driving the plot and exploring the fantastical world around her."
      ],
      "text/plain": [
       "<IPython.core.display.Markdown object>"
      ]
     },
     "metadata": {},
     "output_type": "display_data"
    },
    {
     "data": {
      "text/plain": [
       "'Alice is the main character in the story, a curious and imaginative young girl who has many strange and wonderful adventures. She is the one narrating her dreams and experiences to her sister and interacting with various creatures in the story. Her role is that of a protagonist, driving the plot and exploring the fantastical world around her.'"
      ]
     },
     "execution_count": 68,
     "metadata": {},
     "output_type": "execute_result"
    }
   ],
   "source": [
    "answer_question(\"What is the role of Alice in the story?\")"
   ]
  },
  {
   "cell_type": "code",
   "execution_count": 69,
   "id": "113c9ba7",
   "metadata": {},
   "outputs": [
    {
     "data": {
      "text/markdown": [
       "I don't know the role of the Lion in the story, as there is no mention of a Lion in the provided context. The context appears to be a collection of excerpts from various works, including \"Alice in Wonderland\" and other poems and stories. There is no information about a Lion's role in any of these stories."
      ],
      "text/plain": [
       "<IPython.core.display.Markdown object>"
      ]
     },
     "metadata": {},
     "output_type": "display_data"
    },
    {
     "data": {
      "text/plain": [
       "'I don\\'t know the role of the Lion in the story, as there is no mention of a Lion in the provided context. The context appears to be a collection of excerpts from various works, including \"Alice in Wonderland\" and other poems and stories. There is no information about a Lion\\'s role in any of these stories.'"
      ]
     },
     "execution_count": 69,
     "metadata": {},
     "output_type": "execute_result"
    }
   ],
   "source": [
    "answer_question(\"What is the role of Lion in the story?\")"
   ]
  },
  {
   "cell_type": "code",
   "execution_count": null,
   "id": "aa0167d0",
   "metadata": {},
   "outputs": [],
   "source": []
  },
  {
   "cell_type": "markdown",
   "id": "451a0321",
   "metadata": {},
   "source": [
    "Making the Function that\n",
    "\n",
    "1. Loads a text file.\n",
    "\n",
    "2. Splits it into chunks.\n",
    "\n",
    "3. Embeds and stores it in a vector store.\n",
    "\n",
    "4. Lets you ask a question.\n",
    "\n",
    "5. Returns + prints the model’s answer."
   ]
  },
  {
   "cell_type": "code",
   "execution_count": 71,
   "id": "bef0b1c9",
   "metadata": {},
   "outputs": [],
   "source": [
    "from langchain_community.document_loaders import TextLoader\n",
    "from langchain_text_splitters import RecursiveCharacterTextSplitter\n",
    "from langchain_google_genai import GoogleGenerativeAIEmbeddings\n",
    "from langchain_core.vectorstores import InMemoryVectorStore\n",
    "from langchain.chat_models import init_chat_model\n",
    "from IPython.display import Markdown\n",
    "\n",
    "# Initialize model only once\n",
    "model = init_chat_model(\"llama-3.3-70b-versatile\", model_provider=\"groq\")\n",
    "\n",
    "def Rag_func_1(file_name: str, question: str, k: int = 10):\n",
    "    \"\"\"\n",
    "    Loads a text file, creates embeddings, stores in a vector store,\n",
    "    retrieves relevant chunks, and answers the question.\n",
    "\n",
    "    Args:\n",
    "        file_name (str): Path to the text file.\n",
    "        question (str): The question to ask.\n",
    "        k (int): Number of retrieved chunks. Default = 10.\n",
    "\n",
    "    Returns:\n",
    "        str: The model's answer.\n",
    "    \"\"\"\n",
    "\n",
    "    # Step 1: Load document\n",
    "    loader = TextLoader(file_name)\n",
    "    docs = loader.load()\n",
    "\n",
    "    # Step 2: Split into chunks\n",
    "    text_splitter = RecursiveCharacterTextSplitter(\n",
    "        chunk_size=1000,\n",
    "        chunk_overlap=200,\n",
    "        add_start_index=True,\n",
    "    )\n",
    "    all_splits = text_splitter.split_documents(docs)\n",
    "\n",
    "    print(f\"📖 Split '{file_name}' into {len(all_splits)} sub-documents.\")\n",
    "\n",
    "    # Step 3: Embedding & vector store\n",
    "    embeddings = GoogleGenerativeAIEmbeddings(model=\"models/text-embedding-004\")\n",
    "    vector_store = InMemoryVectorStore(embeddings)\n",
    "    vector_store.add_documents(documents=all_splits)\n",
    "\n",
    "    # Step 4: Retrieve context\n",
    "    search_results = vector_store.similarity_search_with_score(question, k=k)\n",
    "    doc_content = \"\\n\\n\".join(\n",
    "        doc.page_content + \"\\n\" + \"=\"*50 + \"\\n\"\n",
    "        for (doc, score) in search_results\n",
    "    )\n",
    "\n",
    "    # Step 5: Prompt template\n",
    "    prompt_template = \"\"\"You are an assistant for question-answering tasks. \n",
    "    Use the following pieces of retrieved context to answer the question. \n",
    "    If you don't know the answer, just say that you don't know. \n",
    "    Use three sentences maximum and keep the answer concise.\n",
    "\n",
    "    Question: {question} \n",
    "    Context: {context} \n",
    "    Answer:\"\"\"\n",
    "\n",
    "    # Step 6: Query the model\n",
    "    response = model.invoke(prompt_template.format(\n",
    "        context=doc_content,\n",
    "        question=question\n",
    "    ))\n",
    "\n",
    "    # Step 7: Show result\n",
    "    display(Markdown(response.content))\n",
    "\n",
    "    return response.content\n"
   ]
  },
  {
   "cell_type": "code",
   "execution_count": 72,
   "id": "274d57bf",
   "metadata": {},
   "outputs": [
    {
     "name": "stdout",
     "output_type": "stream",
     "text": [
      "📖 Split 'Little Women.txt' into 145 sub-documents.\n"
     ]
    },
    {
     "data": {
      "text/markdown": [
       "Laurie is a character in the story who is introduced as the \"Laurence boy\" and is a neighbor of the main characters. He is a polite and handsome young man who befriends Jo and her sisters, and they have a merry time together. Laurie is also shown to be well-traveled and educated, having spent time abroad and speaking French."
      ],
      "text/plain": [
       "<IPython.core.display.Markdown object>"
      ]
     },
     "metadata": {},
     "output_type": "display_data"
    },
    {
     "data": {
      "text/plain": [
       "'Laurie is a character in the story who is introduced as the \"Laurence boy\" and is a neighbor of the main characters. He is a polite and handsome young man who befriends Jo and her sisters, and they have a merry time together. Laurie is also shown to be well-traveled and educated, having spent time abroad and speaking French.'"
      ]
     },
     "execution_count": 72,
     "metadata": {},
     "output_type": "execute_result"
    }
   ],
   "source": [
    "Rag_func_1(\"Little Women.txt\", \"What is the role of Laurie in the story?\")"
   ]
  },
  {
   "cell_type": "markdown",
   "id": "fd48eda2",
   "metadata": {},
   "source": [
    ".\n",
    ".\n",
    ".\n",
    ".\n",
    ".\n",
    "\n",
    "With this function, we can imagine having an **infinite library of books**.  \n",
    "We can load any file from that library and ask any question to instantly get answers from it.\n",
    "\n",
    ".\n",
    ".\n",
    ".\n",
    ".\n",
    "."
   ]
  }
 ],
 "metadata": {
  "kernelspec": {
   "display_name": "IntroToLLM",
   "language": "python",
   "name": "python3"
  },
  "language_info": {
   "codemirror_mode": {
    "name": "ipython",
    "version": 3
   },
   "file_extension": ".py",
   "mimetype": "text/x-python",
   "name": "python",
   "nbconvert_exporter": "python",
   "pygments_lexer": "ipython3",
   "version": "3.13.5"
  }
 },
 "nbformat": 4,
 "nbformat_minor": 5
}
