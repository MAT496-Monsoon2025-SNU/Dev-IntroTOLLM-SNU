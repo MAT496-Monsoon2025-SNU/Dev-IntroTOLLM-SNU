{
 "cells": [
  {
   "cell_type": "code",
   "execution_count": 1,
   "id": "682c4c87",
   "metadata": {},
   "outputs": [
    {
     "data": {
      "text/plain": [
       "True"
      ]
     },
     "execution_count": 1,
     "metadata": {},
     "output_type": "execute_result"
    }
   ],
   "source": [
    "from dotenv import load_dotenv\n",
    "load_dotenv()"
   ]
  },
  {
   "cell_type": "code",
   "execution_count": 4,
   "id": "a0e461e5",
   "metadata": {},
   "outputs": [],
   "source": [
    "from langchain.chat_models import init_chat_model\n",
    "\n",
    "model = init_chat_model(\"llama-3.1-8b-instant\", model_provider=\"groq\")"
   ]
  },
  {
   "cell_type": "code",
   "execution_count": 5,
   "id": "8b215da3",
   "metadata": {},
   "outputs": [],
   "source": [
    "# invoking to build a converstation style call\n",
    "\n",
    "response = model.invoke(\"Suggest a question to test someone's IQ. Also give the answer.\")"
   ]
  },
  {
   "cell_type": "code",
   "execution_count": 6,
   "id": "bd612474",
   "metadata": {},
   "outputs": [
    {
     "data": {
      "text/plain": [
       "AIMessage(content=\"Here's a question to test someone's IQ:\\n\\n**Question:** \\n\\nA snail is at the bottom of a 20-foot well. Each day, it climbs up 3 feet, but at night, it slips back 2 feet. How many days will it take for the snail to reach the top of the well?\\n\\n**Answer:**\\n\\nLet's break it down step by step:\\n\\n- Day 1: The snail climbs 3 feet, so it's at 3 feet. At night, it slips back 2 feet, so it's at 1 foot.\\n- Day 2: The snail climbs 3 feet, so it's at 4 feet. At night, it slips back 2 feet, so it's at 2 feet.\\n- Day 3: The snail climbs 3 feet, so it's at 5 feet. At night, it slips back 2 feet, so it's at 3 feet.\\n- Day 4: The snail climbs 3 feet, so it's at 6 feet. At night, it slips back 2 feet, so it's at 4 feet.\\n- Day 5: The snail climbs 3 feet, so it's at 7 feet. At night, it slips back 2 feet, so it's at 5 feet.\\n- Day 6: The snail climbs 3 feet, so it's at 8 feet. At night, it slips back 2 feet, so it's at 6 feet.\\n- Day 7: The snail climbs 3 feet, so it's at 9 feet. At night, it slips back 2 feet, so it's at 7 feet.\\n- Day 8: The snail climbs 3 feet, so it's at 10 feet. At night, it slips back 2 feet, so it's at 8 feet.\\n- Day 9: The snail climbs 3 feet, so it's at 11 feet. At night, it slips back 2 feet, so it's at 9 feet.\\n- Day 10: The snail climbs 3 feet, so it's at 12 feet. At night, it slips back 2 feet, so it's at 10 feet.\\n- Day 11: The snail climbs 3 feet, so it's at 13 feet. At night, it slips back 2 feet, so it's at 11 feet.\\n- Day 12: The snail climbs 3 feet, so it's at 14 feet. At night, it slips back 2 feet, so it's at 12 feet.\\n- Day 13: The snail climbs 3 feet, so it's at 15 feet. At night, it slips back 2 feet, so it's at 13 feet.\\n- Day 14: The snail climbs 3 feet, so it's at 16 feet. At night, it slips back 2 feet, so it's at 14 feet.\\n- Day 15: The snail climbs 3 feet, so it's at 17 feet. At night, it slips back 2 feet, so it's at 15 feet.\\n- Day 16: The snail climbs 3 feet, so it's at 18 feet. At night, it slips back 2 feet, so it's at 16 feet.\\n- Day 17: The snail climbs 3 feet, so it's at 19 feet. At night, it slips back 2 feet, so it's at 17 feet.\\n- Day 18: The snail climbs 3 feet, so it's at 20 feet. It has reached the top of the well.\\n\\n**Answer:** The snail will take 18 days to reach the top of the well, but actually on the 18th day it climbs to 20 feet but slips back on the 19th night to 19 feet then on the 20th day it climbs to 21 feet then slips back to 20 feet.\", additional_kwargs={}, response_metadata={'token_usage': {'completion_tokens': 841, 'prompt_tokens': 50, 'total_tokens': 891, 'completion_time': 1.140431122, 'prompt_time': 0.007045914, 'queue_time': 0.052318665, 'total_time': 1.147477036}, 'model_name': 'llama-3.1-8b-instant', 'system_fingerprint': 'fp_510c177af0', 'service_tier': 'on_demand', 'finish_reason': 'stop', 'logprobs': None}, id='run--20e543c4-5e43-4a02-9623-b3a2adaf504e-0', usage_metadata={'input_tokens': 50, 'output_tokens': 841, 'total_tokens': 891})"
      ]
     },
     "execution_count": 6,
     "metadata": {},
     "output_type": "execute_result"
    }
   ],
   "source": [
    "response"
   ]
  },
  {
   "cell_type": "code",
   "execution_count": 7,
   "id": "a444466b",
   "metadata": {},
   "outputs": [
    {
     "name": "stdout",
     "output_type": "stream",
     "text": [
      "Here's a question to test someone's IQ:\n",
      "\n",
      "**Question:** \n",
      "\n",
      "A snail is at the bottom of a 20-foot well. Each day, it climbs up 3 feet, but at night, it slips back 2 feet. How many days will it take for the snail to reach the top of the well?\n",
      "\n",
      "**Answer:**\n",
      "\n",
      "Let's break it down step by step:\n",
      "\n",
      "- Day 1: The snail climbs 3 feet, so it's at 3 feet. At night, it slips back 2 feet, so it's at 1 foot.\n",
      "- Day 2: The snail climbs 3 feet, so it's at 4 feet. At night, it slips back 2 feet, so it's at 2 feet.\n",
      "- Day 3: The snail climbs 3 feet, so it's at 5 feet. At night, it slips back 2 feet, so it's at 3 feet.\n",
      "- Day 4: The snail climbs 3 feet, so it's at 6 feet. At night, it slips back 2 feet, so it's at 4 feet.\n",
      "- Day 5: The snail climbs 3 feet, so it's at 7 feet. At night, it slips back 2 feet, so it's at 5 feet.\n",
      "- Day 6: The snail climbs 3 feet, so it's at 8 feet. At night, it slips back 2 feet, so it's at 6 feet.\n",
      "- Day 7: The snail climbs 3 feet, so it's at 9 feet. At night, it slips back 2 feet, so it's at 7 feet.\n",
      "- Day 8: The snail climbs 3 feet, so it's at 10 feet. At night, it slips back 2 feet, so it's at 8 feet.\n",
      "- Day 9: The snail climbs 3 feet, so it's at 11 feet. At night, it slips back 2 feet, so it's at 9 feet.\n",
      "- Day 10: The snail climbs 3 feet, so it's at 12 feet. At night, it slips back 2 feet, so it's at 10 feet.\n",
      "- Day 11: The snail climbs 3 feet, so it's at 13 feet. At night, it slips back 2 feet, so it's at 11 feet.\n",
      "- Day 12: The snail climbs 3 feet, so it's at 14 feet. At night, it slips back 2 feet, so it's at 12 feet.\n",
      "- Day 13: The snail climbs 3 feet, so it's at 15 feet. At night, it slips back 2 feet, so it's at 13 feet.\n",
      "- Day 14: The snail climbs 3 feet, so it's at 16 feet. At night, it slips back 2 feet, so it's at 14 feet.\n",
      "- Day 15: The snail climbs 3 feet, so it's at 17 feet. At night, it slips back 2 feet, so it's at 15 feet.\n",
      "- Day 16: The snail climbs 3 feet, so it's at 18 feet. At night, it slips back 2 feet, so it's at 16 feet.\n",
      "- Day 17: The snail climbs 3 feet, so it's at 19 feet. At night, it slips back 2 feet, so it's at 17 feet.\n",
      "- Day 18: The snail climbs 3 feet, so it's at 20 feet. It has reached the top of the well.\n",
      "\n",
      "**Answer:** The snail will take 18 days to reach the top of the well, but actually on the 18th day it climbs to 20 feet but slips back on the 19th night to 19 feet then on the 20th day it climbs to 21 feet then slips back to 20 feet.\n"
     ]
    }
   ],
   "source": [
    "print(response.content)"
   ]
  },
  {
   "cell_type": "code",
   "execution_count": 14,
   "id": "25606b23",
   "metadata": {},
   "outputs": [
    {
     "name": "stdout",
     "output_type": "stream",
     "text": [
      "To solve this, let's break it down step by step:\n",
      "\n",
      "1. The snail climbs 3 feet during the day and slips back 2 feet at night, so it effectively moves 1 foot up each day.\n",
      "2. The well is 40 feet deep, but since the snail climbs 3 feet during the day, on the day it reaches the top, it won't slip back at night.\n",
      "3. To find out how many days it takes to reach a point where it can climb out, we subtract the daily climb from the total depth: 40 - 3 = 37 feet.\n",
      "4. Since the snail effectively moves 1 foot up each day, it will take 37 days to cover 37 feet.\n",
      "5. On the 38th day, the snail will climb the final 3 feet and reach the top of the well.\n",
      "\n",
      "Therefore, it will take the snail 38 days to reach the top of the 40-foot well.\n"
     ]
    }
   ],
   "source": [
    "# Lets test another model if they can solve this problem\n",
    "\n",
    "from langchain.chat_models import init_chat_model\n",
    "\n",
    "model1 = init_chat_model(\"llama-3.3-70b-versatile\", model_provider=\"groq\")\n",
    "\n",
    "response = model1.invoke(\"A snail is at the bottom of a 40-foot well. Each day, it climbs up 3 feet, but at night, it slips back 2 feet. How many days will it take for the snail to reach the top of the well?\")\n",
    "\n",
    "print(response.content)"
   ]
  },
  {
   "cell_type": "code",
   "execution_count": 15,
   "id": "4a9c12bf",
   "metadata": {},
   "outputs": [
    {
     "name": "stdout",
     "output_type": "stream",
     "text": [
      "The snail gains a net of \\(3 - 2 = 1\\) foot each full day‑night cycle.  \n",
      "Let \\(d\\) be the number of days.\n",
      "\n",
      "- After the night of day \\(d-1\\) the snail is at height \\(d-1\\) feet.\n",
      "- On day \\(d\\) it climbs 3 feet, so its height before slipping is \\((d-1)+3 = d+2\\).\n",
      "\n",
      "The snail reaches the top when this height is at least 40 feet:\n",
      "\n",
      "\\[\n",
      "d+2 \\ge 40 \\;\\Longrightarrow\\; d \\ge 38.\n",
      "\\]\n",
      "\n",
      "Thus the earliest day on which the snail can reach or exceed the top is **day 38**.  \n",
      "On day 38 it climbs from 37 feet to 40 feet and stops; it does not slip back.\n"
     ]
    }
   ],
   "source": [
    "#trying different models - openai/gpt-oss-20b\n",
    "\n",
    "from langchain.chat_models import init_chat_model\n",
    "\n",
    "model2 = init_chat_model(\"openai/gpt-oss-20b\", model_provider=\"groq\")\n",
    "\n",
    "response = model2.invoke(\"A snail is at the bottom of a 40-foot well. Each day, it climbs up 3 feet, but at night, it slips back 2 feet. How many days will it take for the snail to reach the top of the well?\")\n",
    "\n",
    "print(response.content)"
   ]
  },
  {
   "cell_type": "code",
   "execution_count": 13,
   "id": "76bcd681",
   "metadata": {},
   "outputs": [
    {
     "name": "stdout",
     "output_type": "stream",
     "text": [
      "The snail makes a net gain of **1 foot per full day–night cycle** (3 ft up, then 2 ft down).  \n",
      "\n",
      "Let \\(d\\) be the day on which it finally reaches the top.\n",
      "\n",
      "- At the start of day \\(d\\) the snail has already gained \\(d-1\\) feet (because it has completed \\(d-1\\) full cycles).\n",
      "- During day \\(d\\) it climbs another 3 feet.\n",
      "\n",
      "So the height at the end of the climb on day \\(d\\) is  \n",
      "\n",
      "\\[\n",
      "(d-1) + 3 \\ge 40.\n",
      "\\]\n",
      "\n",
      "Solve for \\(d\\):\n",
      "\n",
      "\\[\n",
      "d + 2 \\ge 40 \\quad\\Longrightarrow\\quad d \\ge 38.\n",
      "\\]\n",
      "\n",
      "Thus on the **38th day** the snail reaches (or exceeds) the 40‑foot mark, and it does not slip back that night.\n",
      "\n",
      "\\[\n",
      "\\boxed{38\\text{ days}}\n",
      "\\]\n"
     ]
    }
   ],
   "source": [
    "#trying different models- openai/gpt-oss-120b\n",
    "\n",
    "from langchain.chat_models import init_chat_model\n",
    "\n",
    "model = init_chat_model(\"openai/gpt-oss-120b\", model_provider=\"groq\")\n",
    "\n",
    "response = model.invoke(\"A snail is at the bottom of a 40-foot well. Each day, it climbs up 3 feet, but at night, it slips back 2 feet. How many days will it take for the snail to reach the top of the well?\")\n",
    "\n",
    "print(response.content)"
   ]
  },
  {
   "cell_type": "code",
   "execution_count": 17,
   "id": "6b4df084",
   "metadata": {},
   "outputs": [
    {
     "name": "stderr",
     "output_type": "stream",
     "text": [
      "<>:1: SyntaxWarning: invalid escape sequence '\\('\n",
      "<>:1: SyntaxWarning: invalid escape sequence '\\('\n",
      "/var/folders/3m/59wbtlss2hzbxgyggr8rsstc0000gn/T/ipykernel_19067/1381952954.py:1: SyntaxWarning: invalid escape sequence '\\('\n",
      "  response = model1.invoke(\"A snail is at the bottom of a 40-foot well. Each day, it climbs up 3 feet, but at night, it slips back 2 feet. How many days will it take for the snail to reach the top of the well? The answer to this question is The snail makes a net gain of **1 foot per full day–night cycle** (3 ft up, then 2 ft down). Let \\(d\\) be the day on which it finally reaches the top. - At the start of day \\(d\\) the snail has already gained \\(d-1\\) feet (because it has completed \\(d-1\\) full cycles). - During day \\(d\\) it climbs another 3 feet. So the height at the end of the climb on day \\(d\\) is \\[ (d-1) + 3 \\ge 40. \\] Solve for \\(d\\): \\[ d + 2 \\ge 40 \\quad\\Longrightarrow\\quad d \\ge 38. \\] Thus on the **38th day** the snail reaches (or exceeds) the 40‑foot mark, and it does not slip back that night. \\[ \\boxed{38\\text{ days}} \\], whats the IQ of the person who solved this problem?\")\n"
     ]
    },
    {
     "name": "stdout",
     "output_type": "stream",
     "text": [
      "It's difficult to accurately estimate the IQ of the person who solved this problem based on this single example. IQ scores are complex and multi-faceted, and problem-solving abilities can vary widely across different domains.\n",
      "\n",
      "However, I can provide some context about the problem and the reasoning skills required to solve it.\n",
      "\n",
      "The problem requires a combination of:\n",
      "\n",
      "1. **Basic math skills**: The problem involves simple arithmetic operations, such as addition and subtraction.\n",
      "2. **Logical reasoning**: The solver needs to understand the concept of net gain and how it applies to the snail's movement.\n",
      "3. **Analytical thinking**: The solver must break down the problem into smaller parts, identifying the snail's progress over each day-night cycle and the final climb on the last day.\n",
      "4. **Algebraic thinking**: The solver uses a variable (d) to represent the day on which the snail reaches the top and sets up an inequality to solve for d.\n",
      "\n",
      "Assuming the solver is an adult or a high school student, the reasoning skills demonstrated in this problem are consistent with those expected of someone with:\n",
      "\n",
      "* Average to above-average mathematical abilities\n",
      "* Good logical reasoning and analytical thinking skills\n",
      "* The ability to apply basic algebraic concepts to solve a problem\n",
      "\n",
      "In terms of IQ, it's difficult to assign a specific score, as IQ tests are designed to measure a broader range of cognitive abilities. However, based on the problem-solving skills demonstrated, I would estimate that the person who solved this problem likely has an IQ in the range of 100-130, which is average to above-average. Keep in mind that this is a rough estimate and should not be taken as a definitive assessment of the person's intelligence.\n"
     ]
    }
   ],
   "source": [
    "\n",
    "response = model1.invoke(\"A snail is at the bottom of a 40-foot well. Each day, it climbs up 3 feet, but at night, it slips back 2 feet. How many days will it take for the snail to reach the top of the well? The answer to this question is The snail makes a net gain of **1 foot per full day–night cycle** (3 ft up, then 2 ft down). Let \\(d\\) be the day on which it finally reaches the top. - At the start of day \\(d\\) the snail has already gained \\(d-1\\) feet (because it has completed \\(d-1\\) full cycles). - During day \\(d\\) it climbs another 3 feet. So the height at the end of the climb on day \\(d\\) is \\[ (d-1) + 3 \\ge 40. \\] Solve for \\(d\\): \\[ d + 2 \\ge 40 \\quad\\Longrightarrow\\quad d \\ge 38. \\] Thus on the **38th day** the snail reaches (or exceeds) the 40‑foot mark, and it does not slip back that night. \\[ \\boxed{38\\text{ days}} \\], whats the IQ of the person who solved this problem?\")\n",
    "\n",
    "print(response.content)"
   ]
  },
  {
   "cell_type": "code",
   "execution_count": null,
   "id": "171b56af",
   "metadata": {},
   "outputs": [],
   "source": []
  },
  {
   "cell_type": "code",
   "execution_count": null,
   "id": "444547d5",
   "metadata": {},
   "outputs": [],
   "source": []
  }
 ],
 "metadata": {
  "kernelspec": {
   "display_name": "IntroToLLM",
   "language": "python",
   "name": "python3"
  },
  "language_info": {
   "codemirror_mode": {
    "name": "ipython",
    "version": 3
   },
   "file_extension": ".py",
   "mimetype": "text/x-python",
   "name": "python",
   "nbconvert_exporter": "python",
   "pygments_lexer": "ipython3",
   "version": "3.13.5"
  }
 },
 "nbformat": 4,
 "nbformat_minor": 5
}
