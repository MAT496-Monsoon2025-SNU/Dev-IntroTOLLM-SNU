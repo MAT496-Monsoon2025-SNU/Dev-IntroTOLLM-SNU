{
 "cells": [
  {
   "cell_type": "markdown",
   "id": "6f17e742",
   "metadata": {},
   "source": [
    "### Web Search Tool\n",
    "\n",
    "This tool lets the LLM answer questions using its own knowledge by default,  \n",
    "and only calls the Tavily web search tool when up-to-date or web-based  \n",
    "information is required.\n"
   ]
  },
  {
   "cell_type": "code",
   "execution_count": 1,
   "id": "c677a5f1",
   "metadata": {},
   "outputs": [
    {
     "data": {
      "text/plain": [
       "True"
      ]
     },
     "execution_count": 1,
     "metadata": {},
     "output_type": "execute_result"
    }
   ],
   "source": [
    "from dotenv import load_dotenv\n",
    "load_dotenv(override=True)"
   ]
  },
  {
   "cell_type": "code",
   "execution_count": 2,
   "id": "e8526816",
   "metadata": {},
   "outputs": [],
   "source": [
    "import getpass\n",
    "import os\n",
    "\n",
    "if not os.environ.get(\"GROQ_API_KEY\"):\n",
    "  os.environ[\"GROQ_API_KEY\"] = getpass.getpass(\"Enter API key for Groq: \")\n",
    "\n",
    "from langchain.chat_models import init_chat_model\n",
    "\n",
    "llm = init_chat_model(\"llama-3.1-8b-instant\", model_provider=\"groq\")"
   ]
  },
  {
   "cell_type": "code",
   "execution_count": 3,
   "id": "09885b13",
   "metadata": {},
   "outputs": [],
   "source": [
    "from langchain_tavily import TavilySearch\n",
    "\n",
    "tool = TavilySearch(\n",
    "    max_results=5,\n",
    "    topic=\"general\",\n",
    "    # include_answer=False,\n",
    "    # include_raw_content=False,\n",
    "    # include_images=False,\n",
    "    # include_image_descriptions=False,\n",
    "    # search_depth=\"basic\",\n",
    "    # time_range=\"day\",\n",
    "    # include_domains=None,\n",
    "    # exclude_domains=None\n",
    ")"
   ]
  },
  {
   "cell_type": "code",
   "execution_count": 4,
   "id": "c3917886",
   "metadata": {},
   "outputs": [
    {
     "data": {
      "text/plain": [
       "{'query': 'Leo Messi last 3 opponent team when playing for barcelona',\n",
       " 'follow_up_questions': None,\n",
       " 'answer': None,\n",
       " 'images': [],\n",
       " 'results': [{'url': 'https://talksport.com/football/2040978/lionel-messi-toughest-opponent-manchester-city-pablo-maffeo-barcelona/',\n",
       "   'title': \"Lionel Messi's toughest opponent spent three years at Man City and ...\",\n",
       "   'content': 'Messi named current Mallorca right-back Pablo Maffeo. Formerly of Manchester City, Maffeo spent three years on the books at the Etihad between 2015 and 2018.',\n",
       "   'score': 0.59880555,\n",
       "   'raw_content': None},\n",
       "  {'url': 'https://www.givemesport.com/lionel-messi-named-strongest-opponent-team-played/',\n",
       "   'title': 'Lionel Messi Named Strongest Team He Ever Played - GiveMeSport',\n",
       "   'content': 'Messi only faced the Spanish national team three times in his career, and never in a major tournament. All three meetings between Argentina and',\n",
       "   'score': 0.5809471,\n",
       "   'raw_content': None},\n",
       "  {'url': 'https://www.facebook.com/10MessitheGOAT/posts/leo-messi-has-never-played-against-his-former-clubs-barcelona-paris-tomorrow-it-/735302575523803/',\n",
       "   'title': 'Leo Messi has never played against his former clubs (Barcelona ...',\n",
       "   'content': 'Leo Messi has never played against his former clubs (Barcelona & Paris). Tomorrow it will be the 1st time he will face a team he played for in',\n",
       "   'score': 0.400703,\n",
       "   'raw_content': None},\n",
       "  {'url': 'https://www.youtube.com/watch?v=Sy6emSOKlQY',\n",
       "   'title': 'Real Madrid 3 x 4 Barcelona (Messi Hat-Trick) La Liga 13 ... - YouTube',\n",
       "   'content': 'Comments · Real Madrid 2 x 3 Barcelona ○ La Liga 16/17 Extended Goals & Highlights ᴴᴰ · Lionel Messi vs Real Madrid (5-0) LaLiga 2010/11 - English',\n",
       "   'score': 0.39831337,\n",
       "   'raw_content': None},\n",
       "  {'url': 'https://www.fcbarcelona.com/en/news/1692969/all-time-stats-for-messi-in-the-barca-youth-teams',\n",
       "   'title': 'All time stats for Messi in the Barça youth teams - FC Barcelona',\n",
       "   'content': '###### Messi scored 89 goals in 97 official matches in the Barça youth teams. In that final stretch of the season Messi played six games with Barça B, while alternating games with U19A, Barça C and even U19B. In total he played 37 official matches in the 2003/04 season with U19B, U19A, Barça C and Barça B, plus a friendly with the first team, and scored a total of 35 goals. Before the end of that season, Leo also debuted with the U20 team in Argentina, with which he played two games and scored three goals. In 2004/05, Messi became a Barça B player, and that season the Argentine alternated training and games with those of the first team.',\n",
       "   'score': 0.39061585,\n",
       "   'raw_content': None}],\n",
       " 'response_time': 1.43,\n",
       " 'request_id': '8a410998-e375-457d-a675-80efe03a633c'}"
      ]
     },
     "execution_count": 4,
     "metadata": {},
     "output_type": "execute_result"
    }
   ],
   "source": [
    "tool.invoke({\"query\": \"Leo Messi last 3 opponent team when playing for barcelona\"})"
   ]
  },
  {
   "cell_type": "code",
   "execution_count": 5,
   "id": "91365fc6",
   "metadata": {},
   "outputs": [],
   "source": [
    "from langchain_core.tools import tool\n",
    "from langchain_tavily import TavilySearch\n",
    "from langchain_groq import ChatGroq\n",
    "\n",
    "# ----------------------------\n",
    "# Tavily search tool\n",
    "# ----------------------------\n",
    "\n",
    "tavily = TavilySearch(max_results=5, topic=\"general\")\n",
    "\n",
    "@tool\n",
    "def web_search(query: str):\n",
    "    \"\"\"Use this tool ONLY when the question requires recent, real-time,\n",
    "    or web-based information (e.g., current events, breaking news, live stats).\n",
    "    If the question can be answered from your own knowledge, do NOT call this tool.\"\"\"\n",
    "    return tavily.invoke({\"query\": query})\n",
    "\n",
    "\n",
    "# ----------------------------\n",
    "# Init Groq LLaMA model\n",
    "# ----------------------------\n",
    "\n",
    "llm = ChatGroq(model=\"llama-3.1-8b-instant\")\n",
    "\n",
    "# Bind only Tavily tool\n",
    "llm_with_tools = llm.bind_tools([web_search])\n"
   ]
  },
  {
   "cell_type": "code",
   "execution_count": 6,
   "id": "6e1d335a",
   "metadata": {},
   "outputs": [],
   "source": [
    "resp = llm_with_tools.invoke(\"Hello who are you?\")"
   ]
  },
  {
   "cell_type": "code",
   "execution_count": 7,
   "id": "3e7966e3",
   "metadata": {},
   "outputs": [
    {
     "data": {
      "text/plain": [
       "AIMessage(content='I\\'m an artificial intelligence model known as Llama. Llama stands for \"Large Language Model Meta AI.\"', additional_kwargs={}, response_metadata={'token_usage': {'completion_tokens': 23, 'prompt_tokens': 298, 'total_tokens': 321, 'completion_time': 0.023950361, 'prompt_time': 0.01802833, 'queue_time': 0.053178309, 'total_time': 0.041978691}, 'model_name': 'llama-3.1-8b-instant', 'system_fingerprint': 'fp_8804b970d6', 'service_tier': 'on_demand', 'finish_reason': 'stop', 'logprobs': None}, id='run--d4998b7d-3e49-4842-a8dc-bebbba573ee1-0', usage_metadata={'input_tokens': 298, 'output_tokens': 23, 'total_tokens': 321})"
      ]
     },
     "execution_count": 7,
     "metadata": {},
     "output_type": "execute_result"
    }
   ],
   "source": [
    "resp"
   ]
  },
  {
   "cell_type": "code",
   "execution_count": 8,
   "id": "bd02443a",
   "metadata": {},
   "outputs": [
    {
     "data": {
      "application/vnd.jupyter.widget-view+json": {
       "model_id": "33d0344662e5446ca9cf944b042ddf9b",
       "version_major": 2,
       "version_minor": 0
      },
      "text/plain": [
       "Text(value='', description='You:', placeholder='Type your question...')"
      ]
     },
     "metadata": {},
     "output_type": "display_data"
    },
    {
     "data": {
      "application/vnd.jupyter.widget-view+json": {
       "model_id": "aa5c64cb64c0431985d25117f6a129b4",
       "version_major": 2,
       "version_minor": 0
      },
      "text/plain": [
       "Button(description='Ask', style=ButtonStyle())"
      ]
     },
     "metadata": {},
     "output_type": "display_data"
    },
    {
     "data": {
      "application/vnd.jupyter.widget-view+json": {
       "model_id": "a0e8826e3e314ba18a1812385a18a8ed",
       "version_major": 2,
       "version_minor": 0
      },
      "text/plain": [
       "Output()"
      ]
     },
     "metadata": {},
     "output_type": "display_data"
    }
   ],
   "source": [
    "import ipywidgets as widgets\n",
    "from IPython.display import display, clear_output\n",
    "\n",
    "# Text box for user query\n",
    "input_box = widgets.Text(\n",
    "    value='',\n",
    "    placeholder='Type your question...',\n",
    "    description='You:',\n",
    "    disabled=False\n",
    ")\n",
    "\n",
    "# Button to submit query\n",
    "button = widgets.Button(description=\"Ask\")\n",
    "\n",
    "output = widgets.Output()\n",
    "\n",
    "def on_button_click(b):\n",
    "    with output:\n",
    "        clear_output(wait=True)\n",
    "        user_input = input_box.value.strip()\n",
    "        if not user_input:\n",
    "            print(\"Please enter a query.\")\n",
    "            return\n",
    "        print(\"You:\", user_input)\n",
    "        try:\n",
    "            response = llm_with_tools.invoke(user_input)\n",
    "            print(\"Assistant:\", response)\n",
    "        except Exception as e:\n",
    "            print(\"Error:\", e)\n",
    "\n",
    "button.on_click(on_button_click)\n",
    "\n",
    "display(input_box, button, output)\n"
   ]
  },
  {
   "cell_type": "code",
   "execution_count": null,
   "id": "2cacd146",
   "metadata": {},
   "outputs": [],
   "source": [
    "\n",
    "\n"
   ]
  }
 ],
 "metadata": {
  "kernelspec": {
   "display_name": "IntroToLLM",
   "language": "python",
   "name": "python3"
  },
  "language_info": {
   "codemirror_mode": {
    "name": "ipython",
    "version": 3
   },
   "file_extension": ".py",
   "mimetype": "text/x-python",
   "name": "python",
   "nbconvert_exporter": "python",
   "pygments_lexer": "ipython3",
   "version": "3.13.5"
  }
 },
 "nbformat": 4,
 "nbformat_minor": 5
}
